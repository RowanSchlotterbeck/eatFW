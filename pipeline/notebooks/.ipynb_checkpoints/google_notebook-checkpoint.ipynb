{
 "cells": [
  {
   "cell_type": "markdown",
   "id": "68218ea5-b228-4c2f-9a3e-a8b2acbb0540",
   "metadata": {},
   "source": [
    "This notebook aims to create a dataset on DFW resturants based on the Google Places API\n"
   ]
  },
  {
   "cell_type": "code",
   "execution_count": null,
   "id": "c04ac013-40e5-46b5-9f41-35eda6c393e6",
   "metadata": {},
   "outputs": [],
   "source": []
  }
 ],
 "metadata": {
  "kernelspec": {
   "display_name": "Python 3 (ipykernel)",
   "language": "python",
   "name": "python3"
  },
  "language_info": {
   "codemirror_mode": {
    "name": "ipython",
    "version": 3
   },
   "file_extension": ".py",
   "mimetype": "text/x-python",
   "name": "python",
   "nbconvert_exporter": "python",
   "pygments_lexer": "ipython3",
   "version": "3.13.1"
  }
 },
 "nbformat": 4,
 "nbformat_minor": 5
}
